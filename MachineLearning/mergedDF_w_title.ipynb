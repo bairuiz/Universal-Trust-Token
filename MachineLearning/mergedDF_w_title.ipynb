{
 "cells": [
  {
   "cell_type": "code",
   "execution_count": 1,
   "metadata": {},
   "outputs": [],
   "source": [
    "import pandas as pd"
   ]
  },
  {
   "cell_type": "code",
   "execution_count": 10,
   "metadata": {},
   "outputs": [],
   "source": [
    "df1_fake = pd.read_csv(\"Fake.csv\")\n",
    "df1_fake['label'] = 0 #Fake news \n",
    "df1_true = pd.read_csv(\"True.csv\")\n",
    "df1_true['label'] = 1 #True news \n",
    "\n",
    "#Combining the fake and true data \n",
    "data = pd.concat([df1_fake.sample(n=7000), df1_true.sample(n=7100)])\n",
    "\n",
    "#Make label into categorical data\n",
    "data['label'] = data['label'].astype('category')\n",
    "\n",
    "#Combine the text data into one column \n",
    "data['combined_text'] = data['title'] + '. ' +  data['text']\n",
    "\n",
    "data = data.drop(data.columns[[2,3]], axis=1)\n",
    "data = data.reset_index(drop=True)"
   ]
  },
  {
   "cell_type": "code",
   "execution_count": 11,
   "metadata": {},
   "outputs": [
    {
     "data": {
      "text/html": [
       "<div>\n",
       "<style scoped>\n",
       "    .dataframe tbody tr th:only-of-type {\n",
       "        vertical-align: middle;\n",
       "    }\n",
       "\n",
       "    .dataframe tbody tr th {\n",
       "        vertical-align: top;\n",
       "    }\n",
       "\n",
       "    .dataframe thead th {\n",
       "        text-align: right;\n",
       "    }\n",
       "</style>\n",
       "<table border=\"1\" class=\"dataframe\">\n",
       "  <thead>\n",
       "    <tr style=\"text-align: right;\">\n",
       "      <th></th>\n",
       "      <th>title</th>\n",
       "      <th>text</th>\n",
       "      <th>label</th>\n",
       "      <th>combined_text</th>\n",
       "    </tr>\n",
       "  </thead>\n",
       "  <tbody>\n",
       "    <tr>\n",
       "      <th>0</th>\n",
       "      <td>Texas Moving To Ban Jews, Muslims, and Gays f...</td>\n",
       "      <td>Texas parents looking to adopt may soon be ban...</td>\n",
       "      <td>0</td>\n",
       "      <td>Texas Moving To Ban Jews, Muslims, and Gays f...</td>\n",
       "    </tr>\n",
       "    <tr>\n",
       "      <th>1</th>\n",
       "      <td>MUSLIM ACTIVISTS LAUNCH VOTER REGISTRATION DRI...</td>\n",
       "      <td>Who would ve guessed? A coalition of U.S.-base...</td>\n",
       "      <td>0</td>\n",
       "      <td>MUSLIM ACTIVISTS LAUNCH VOTER REGISTRATION DRI...</td>\n",
       "    </tr>\n",
       "    <tr>\n",
       "      <th>2</th>\n",
       "      <td>BREAKING: YOU’RE FIRED! FBI DIRECTOR JAMES COM...</td>\n",
       "      <td>Wow! This is clearly something the White House...</td>\n",
       "      <td>0</td>\n",
       "      <td>BREAKING: YOU’RE FIRED! FBI DIRECTOR JAMES COM...</td>\n",
       "    </tr>\n",
       "    <tr>\n",
       "      <th>3</th>\n",
       "      <td>Trump Whines Pathetically On Twitter Because ...</td>\n",
       "      <td>Well, it seems that despite the efforts of not...</td>\n",
       "      <td>0</td>\n",
       "      <td>Trump Whines Pathetically On Twitter Because ...</td>\n",
       "    </tr>\n",
       "    <tr>\n",
       "      <th>4</th>\n",
       "      <td>UPDATE: STILL NO MEDIA COVERAGE AFTER THOUSAND...</td>\n",
       "      <td>Does anyone actually believe it s possible tha...</td>\n",
       "      <td>0</td>\n",
       "      <td>UPDATE: STILL NO MEDIA COVERAGE AFTER THOUSAND...</td>\n",
       "    </tr>\n",
       "  </tbody>\n",
       "</table>\n",
       "</div>"
      ],
      "text/plain": [
       "                                               title  \\\n",
       "0   Texas Moving To Ban Jews, Muslims, and Gays f...   \n",
       "1  MUSLIM ACTIVISTS LAUNCH VOTER REGISTRATION DRI...   \n",
       "2  BREAKING: YOU’RE FIRED! FBI DIRECTOR JAMES COM...   \n",
       "3   Trump Whines Pathetically On Twitter Because ...   \n",
       "4  UPDATE: STILL NO MEDIA COVERAGE AFTER THOUSAND...   \n",
       "\n",
       "                                                text label  \\\n",
       "0  Texas parents looking to adopt may soon be ban...     0   \n",
       "1  Who would ve guessed? A coalition of U.S.-base...     0   \n",
       "2  Wow! This is clearly something the White House...     0   \n",
       "3  Well, it seems that despite the efforts of not...     0   \n",
       "4  Does anyone actually believe it s possible tha...     0   \n",
       "\n",
       "                                       combined_text  \n",
       "0   Texas Moving To Ban Jews, Muslims, and Gays f...  \n",
       "1  MUSLIM ACTIVISTS LAUNCH VOTER REGISTRATION DRI...  \n",
       "2  BREAKING: YOU’RE FIRED! FBI DIRECTOR JAMES COM...  \n",
       "3   Trump Whines Pathetically On Twitter Because ...  \n",
       "4  UPDATE: STILL NO MEDIA COVERAGE AFTER THOUSAND...  "
      ]
     },
     "execution_count": 11,
     "metadata": {},
     "output_type": "execute_result"
    }
   ],
   "source": [
    "data.head()"
   ]
  },
  {
   "cell_type": "code",
   "execution_count": 21,
   "metadata": {},
   "outputs": [],
   "source": [
    "df2 = pd.read_csv('train.csv')\n",
    "df2['combined_text'] = df2['title'] + '. ' + df2['text']\n",
    "df2 = df2.drop(df2.columns[[0,2]], axis=1)\n",
    "df2.dropna(subset=['combined_text'],axis=0,inplace=True)\n",
    "df2.loc[df2['label'] == 0, 'label'] = -1\n",
    "df2.loc[df2['label'] == 1, 'label'] = 0\n",
    "df2.loc[df2['label'] == -1, 'label'] = 1"
   ]
  },
  {
   "cell_type": "code",
   "execution_count": 22,
   "metadata": {},
   "outputs": [
    {
     "data": {
      "text/html": [
       "<div>\n",
       "<style scoped>\n",
       "    .dataframe tbody tr th:only-of-type {\n",
       "        vertical-align: middle;\n",
       "    }\n",
       "\n",
       "    .dataframe tbody tr th {\n",
       "        vertical-align: top;\n",
       "    }\n",
       "\n",
       "    .dataframe thead th {\n",
       "        text-align: right;\n",
       "    }\n",
       "</style>\n",
       "<table border=\"1\" class=\"dataframe\">\n",
       "  <thead>\n",
       "    <tr style=\"text-align: right;\">\n",
       "      <th></th>\n",
       "      <th>title</th>\n",
       "      <th>text</th>\n",
       "      <th>label</th>\n",
       "      <th>combined_text</th>\n",
       "    </tr>\n",
       "  </thead>\n",
       "  <tbody>\n",
       "    <tr>\n",
       "      <th>0</th>\n",
       "      <td>House Dem Aide: We Didn’t Even See Comey’s Let...</td>\n",
       "      <td>House Dem Aide: We Didn’t Even See Comey’s Let...</td>\n",
       "      <td>0</td>\n",
       "      <td>House Dem Aide: We Didn’t Even See Comey’s Let...</td>\n",
       "    </tr>\n",
       "    <tr>\n",
       "      <th>1</th>\n",
       "      <td>FLYNN: Hillary Clinton, Big Woman on Campus - ...</td>\n",
       "      <td>Ever get the feeling your life circles the rou...</td>\n",
       "      <td>1</td>\n",
       "      <td>FLYNN: Hillary Clinton, Big Woman on Campus - ...</td>\n",
       "    </tr>\n",
       "    <tr>\n",
       "      <th>2</th>\n",
       "      <td>Why the Truth Might Get You Fired</td>\n",
       "      <td>Why the Truth Might Get You Fired October 29, ...</td>\n",
       "      <td>0</td>\n",
       "      <td>Why the Truth Might Get You Fired. Why the Tru...</td>\n",
       "    </tr>\n",
       "    <tr>\n",
       "      <th>3</th>\n",
       "      <td>15 Civilians Killed In Single US Airstrike Hav...</td>\n",
       "      <td>Videos 15 Civilians Killed In Single US Airstr...</td>\n",
       "      <td>0</td>\n",
       "      <td>15 Civilians Killed In Single US Airstrike Hav...</td>\n",
       "    </tr>\n",
       "    <tr>\n",
       "      <th>4</th>\n",
       "      <td>Iranian woman jailed for fictional unpublished...</td>\n",
       "      <td>Print \\nAn Iranian woman has been sentenced to...</td>\n",
       "      <td>0</td>\n",
       "      <td>Iranian woman jailed for fictional unpublished...</td>\n",
       "    </tr>\n",
       "  </tbody>\n",
       "</table>\n",
       "</div>"
      ],
      "text/plain": [
       "                                               title  \\\n",
       "0  House Dem Aide: We Didn’t Even See Comey’s Let...   \n",
       "1  FLYNN: Hillary Clinton, Big Woman on Campus - ...   \n",
       "2                  Why the Truth Might Get You Fired   \n",
       "3  15 Civilians Killed In Single US Airstrike Hav...   \n",
       "4  Iranian woman jailed for fictional unpublished...   \n",
       "\n",
       "                                                text  label  \\\n",
       "0  House Dem Aide: We Didn’t Even See Comey’s Let...      0   \n",
       "1  Ever get the feeling your life circles the rou...      1   \n",
       "2  Why the Truth Might Get You Fired October 29, ...      0   \n",
       "3  Videos 15 Civilians Killed In Single US Airstr...      0   \n",
       "4  Print \\nAn Iranian woman has been sentenced to...      0   \n",
       "\n",
       "                                       combined_text  \n",
       "0  House Dem Aide: We Didn’t Even See Comey’s Let...  \n",
       "1  FLYNN: Hillary Clinton, Big Woman on Campus - ...  \n",
       "2  Why the Truth Might Get You Fired. Why the Tru...  \n",
       "3  15 Civilians Killed In Single US Airstrike Hav...  \n",
       "4  Iranian woman jailed for fictional unpublished...  "
      ]
     },
     "execution_count": 22,
     "metadata": {},
     "output_type": "execute_result"
    }
   ],
   "source": [
    "df2.head()"
   ]
  },
  {
   "cell_type": "code",
   "execution_count": 23,
   "metadata": {},
   "outputs": [
    {
     "data": {
      "text/html": [
       "<div>\n",
       "<style scoped>\n",
       "    .dataframe tbody tr th:only-of-type {\n",
       "        vertical-align: middle;\n",
       "    }\n",
       "\n",
       "    .dataframe tbody tr th {\n",
       "        vertical-align: top;\n",
       "    }\n",
       "\n",
       "    .dataframe thead th {\n",
       "        text-align: right;\n",
       "    }\n",
       "</style>\n",
       "<table border=\"1\" class=\"dataframe\">\n",
       "  <thead>\n",
       "    <tr style=\"text-align: right;\">\n",
       "      <th></th>\n",
       "      <th>title</th>\n",
       "      <th>text</th>\n",
       "      <th>label</th>\n",
       "      <th>combined_text</th>\n",
       "    </tr>\n",
       "  </thead>\n",
       "  <tbody>\n",
       "    <tr>\n",
       "      <th>0</th>\n",
       "      <td>Texas Moving To Ban Jews, Muslims, and Gays f...</td>\n",
       "      <td>Texas parents looking to adopt may soon be ban...</td>\n",
       "      <td>0</td>\n",
       "      <td>Texas Moving To Ban Jews, Muslims, and Gays f...</td>\n",
       "    </tr>\n",
       "    <tr>\n",
       "      <th>1</th>\n",
       "      <td>MUSLIM ACTIVISTS LAUNCH VOTER REGISTRATION DRI...</td>\n",
       "      <td>Who would ve guessed? A coalition of U.S.-base...</td>\n",
       "      <td>0</td>\n",
       "      <td>MUSLIM ACTIVISTS LAUNCH VOTER REGISTRATION DRI...</td>\n",
       "    </tr>\n",
       "    <tr>\n",
       "      <th>2</th>\n",
       "      <td>BREAKING: YOU’RE FIRED! FBI DIRECTOR JAMES COM...</td>\n",
       "      <td>Wow! This is clearly something the White House...</td>\n",
       "      <td>0</td>\n",
       "      <td>BREAKING: YOU’RE FIRED! FBI DIRECTOR JAMES COM...</td>\n",
       "    </tr>\n",
       "    <tr>\n",
       "      <th>3</th>\n",
       "      <td>Trump Whines Pathetically On Twitter Because ...</td>\n",
       "      <td>Well, it seems that despite the efforts of not...</td>\n",
       "      <td>0</td>\n",
       "      <td>Trump Whines Pathetically On Twitter Because ...</td>\n",
       "    </tr>\n",
       "    <tr>\n",
       "      <th>4</th>\n",
       "      <td>UPDATE: STILL NO MEDIA COVERAGE AFTER THOUSAND...</td>\n",
       "      <td>Does anyone actually believe it s possible tha...</td>\n",
       "      <td>0</td>\n",
       "      <td>UPDATE: STILL NO MEDIA COVERAGE AFTER THOUSAND...</td>\n",
       "    </tr>\n",
       "  </tbody>\n",
       "</table>\n",
       "</div>"
      ],
      "text/plain": [
       "                                               title  \\\n",
       "0   Texas Moving To Ban Jews, Muslims, and Gays f...   \n",
       "1  MUSLIM ACTIVISTS LAUNCH VOTER REGISTRATION DRI...   \n",
       "2  BREAKING: YOU’RE FIRED! FBI DIRECTOR JAMES COM...   \n",
       "3   Trump Whines Pathetically On Twitter Because ...   \n",
       "4  UPDATE: STILL NO MEDIA COVERAGE AFTER THOUSAND...   \n",
       "\n",
       "                                                text  label  \\\n",
       "0  Texas parents looking to adopt may soon be ban...      0   \n",
       "1  Who would ve guessed? A coalition of U.S.-base...      0   \n",
       "2  Wow! This is clearly something the White House...      0   \n",
       "3  Well, it seems that despite the efforts of not...      0   \n",
       "4  Does anyone actually believe it s possible tha...      0   \n",
       "\n",
       "                                       combined_text  \n",
       "0   Texas Moving To Ban Jews, Muslims, and Gays f...  \n",
       "1  MUSLIM ACTIVISTS LAUNCH VOTER REGISTRATION DRI...  \n",
       "2  BREAKING: YOU’RE FIRED! FBI DIRECTOR JAMES COM...  \n",
       "3   Trump Whines Pathetically On Twitter Because ...  \n",
       "4  UPDATE: STILL NO MEDIA COVERAGE AFTER THOUSAND...  "
      ]
     },
     "execution_count": 23,
     "metadata": {},
     "output_type": "execute_result"
    }
   ],
   "source": [
    "data = pd.concat([data, df2.sample(n=14000)])\n",
    "data.head()"
   ]
  },
  {
   "cell_type": "code",
   "execution_count": 24,
   "metadata": {},
   "outputs": [
    {
     "data": {
      "text/plain": [
       "(28100, 4)"
      ]
     },
     "execution_count": 24,
     "metadata": {},
     "output_type": "execute_result"
    }
   ],
   "source": [
    "data.shape"
   ]
  },
  {
   "cell_type": "code",
   "execution_count": 25,
   "metadata": {},
   "outputs": [
    {
     "data": {
      "text/plain": [
       "1    14309\n",
       "0    13791\n",
       "Name: label, dtype: int64"
      ]
     },
     "execution_count": 25,
     "metadata": {},
     "output_type": "execute_result"
    }
   ],
   "source": [
    "data['label'].value_counts()"
   ]
  },
  {
   "cell_type": "code",
   "execution_count": 27,
   "metadata": {},
   "outputs": [],
   "source": [
    "df3 = pd.read_csv('fake2.csv')\n",
    "df3['combined_text'] = df3['title'] + '. ' + df3['text']\n",
    "df3['label'] = 0\n",
    "df3['label'] = df3['label'].astype('category')\n",
    "df3.dropna(subset=['combined_text'],axis=0,inplace=True)"
   ]
  },
  {
   "cell_type": "code",
   "execution_count": 29,
   "metadata": {},
   "outputs": [
    {
     "data": {
      "text/html": [
       "<div>\n",
       "<style scoped>\n",
       "    .dataframe tbody tr th:only-of-type {\n",
       "        vertical-align: middle;\n",
       "    }\n",
       "\n",
       "    .dataframe tbody tr th {\n",
       "        vertical-align: top;\n",
       "    }\n",
       "\n",
       "    .dataframe thead th {\n",
       "        text-align: right;\n",
       "    }\n",
       "</style>\n",
       "<table border=\"1\" class=\"dataframe\">\n",
       "  <thead>\n",
       "    <tr style=\"text-align: right;\">\n",
       "      <th></th>\n",
       "      <th>title</th>\n",
       "      <th>text</th>\n",
       "      <th>label</th>\n",
       "      <th>combined_text</th>\n",
       "    </tr>\n",
       "  </thead>\n",
       "  <tbody>\n",
       "    <tr>\n",
       "      <th>0</th>\n",
       "      <td>Muslims BUSTED: They Stole Millions In Gov’t B...</td>\n",
       "      <td>Print They should pay all the back all the mon...</td>\n",
       "      <td>0</td>\n",
       "      <td>Muslims BUSTED: They Stole Millions In Gov’t B...</td>\n",
       "    </tr>\n",
       "    <tr>\n",
       "      <th>1</th>\n",
       "      <td>Re: Why Did Attorney General Loretta Lynch Ple...</td>\n",
       "      <td>Why Did Attorney General Loretta Lynch Plead T...</td>\n",
       "      <td>0</td>\n",
       "      <td>Re: Why Did Attorney General Loretta Lynch Ple...</td>\n",
       "    </tr>\n",
       "    <tr>\n",
       "      <th>2</th>\n",
       "      <td>BREAKING: Weiner Cooperating With FBI On Hilla...</td>\n",
       "      <td>Red State : \\nFox News Sunday reported this mo...</td>\n",
       "      <td>0</td>\n",
       "      <td>BREAKING: Weiner Cooperating With FBI On Hilla...</td>\n",
       "    </tr>\n",
       "    <tr>\n",
       "      <th>3</th>\n",
       "      <td>PIN DROP SPEECH BY FATHER OF DAUGHTER Kidnappe...</td>\n",
       "      <td>Email Kayla Mueller was a prisoner and torture...</td>\n",
       "      <td>0</td>\n",
       "      <td>PIN DROP SPEECH BY FATHER OF DAUGHTER Kidnappe...</td>\n",
       "    </tr>\n",
       "    <tr>\n",
       "      <th>4</th>\n",
       "      <td>FANTASTIC! TRUMP'S 7 POINT PLAN To Reform Heal...</td>\n",
       "      <td>Email HEALTHCARE REFORM TO MAKE AMERICA GREAT ...</td>\n",
       "      <td>0</td>\n",
       "      <td>FANTASTIC! TRUMP'S 7 POINT PLAN To Reform Heal...</td>\n",
       "    </tr>\n",
       "  </tbody>\n",
       "</table>\n",
       "</div>"
      ],
      "text/plain": [
       "                                               title  \\\n",
       "0  Muslims BUSTED: They Stole Millions In Gov’t B...   \n",
       "1  Re: Why Did Attorney General Loretta Lynch Ple...   \n",
       "2  BREAKING: Weiner Cooperating With FBI On Hilla...   \n",
       "3  PIN DROP SPEECH BY FATHER OF DAUGHTER Kidnappe...   \n",
       "4  FANTASTIC! TRUMP'S 7 POINT PLAN To Reform Heal...   \n",
       "\n",
       "                                                text label  \\\n",
       "0  Print They should pay all the back all the mon...     0   \n",
       "1  Why Did Attorney General Loretta Lynch Plead T...     0   \n",
       "2  Red State : \\nFox News Sunday reported this mo...     0   \n",
       "3  Email Kayla Mueller was a prisoner and torture...     0   \n",
       "4  Email HEALTHCARE REFORM TO MAKE AMERICA GREAT ...     0   \n",
       "\n",
       "                                       combined_text  \n",
       "0  Muslims BUSTED: They Stole Millions In Gov’t B...  \n",
       "1  Re: Why Did Attorney General Loretta Lynch Ple...  \n",
       "2  BREAKING: Weiner Cooperating With FBI On Hilla...  \n",
       "3  PIN DROP SPEECH BY FATHER OF DAUGHTER Kidnappe...  \n",
       "4  FANTASTIC! TRUMP'S 7 POINT PLAN To Reform Heal...  "
      ]
     },
     "execution_count": 29,
     "metadata": {},
     "output_type": "execute_result"
    }
   ],
   "source": [
    "newDF3 = df3[['title','text','label','combined_text']].copy()\n",
    "newDF3.head()"
   ]
  },
  {
   "cell_type": "code",
   "execution_count": 30,
   "metadata": {},
   "outputs": [
    {
     "data": {
      "text/html": [
       "<div>\n",
       "<style scoped>\n",
       "    .dataframe tbody tr th:only-of-type {\n",
       "        vertical-align: middle;\n",
       "    }\n",
       "\n",
       "    .dataframe tbody tr th {\n",
       "        vertical-align: top;\n",
       "    }\n",
       "\n",
       "    .dataframe thead th {\n",
       "        text-align: right;\n",
       "    }\n",
       "</style>\n",
       "<table border=\"1\" class=\"dataframe\">\n",
       "  <thead>\n",
       "    <tr style=\"text-align: right;\">\n",
       "      <th></th>\n",
       "      <th>title</th>\n",
       "      <th>text</th>\n",
       "      <th>label</th>\n",
       "      <th>combined_text</th>\n",
       "    </tr>\n",
       "  </thead>\n",
       "  <tbody>\n",
       "    <tr>\n",
       "      <th>0</th>\n",
       "      <td>Texas Moving To Ban Jews, Muslims, and Gays f...</td>\n",
       "      <td>Texas parents looking to adopt may soon be ban...</td>\n",
       "      <td>0</td>\n",
       "      <td>Texas Moving To Ban Jews, Muslims, and Gays f...</td>\n",
       "    </tr>\n",
       "    <tr>\n",
       "      <th>1</th>\n",
       "      <td>MUSLIM ACTIVISTS LAUNCH VOTER REGISTRATION DRI...</td>\n",
       "      <td>Who would ve guessed? A coalition of U.S.-base...</td>\n",
       "      <td>0</td>\n",
       "      <td>MUSLIM ACTIVISTS LAUNCH VOTER REGISTRATION DRI...</td>\n",
       "    </tr>\n",
       "    <tr>\n",
       "      <th>2</th>\n",
       "      <td>BREAKING: YOU’RE FIRED! FBI DIRECTOR JAMES COM...</td>\n",
       "      <td>Wow! This is clearly something the White House...</td>\n",
       "      <td>0</td>\n",
       "      <td>BREAKING: YOU’RE FIRED! FBI DIRECTOR JAMES COM...</td>\n",
       "    </tr>\n",
       "    <tr>\n",
       "      <th>3</th>\n",
       "      <td>Trump Whines Pathetically On Twitter Because ...</td>\n",
       "      <td>Well, it seems that despite the efforts of not...</td>\n",
       "      <td>0</td>\n",
       "      <td>Trump Whines Pathetically On Twitter Because ...</td>\n",
       "    </tr>\n",
       "    <tr>\n",
       "      <th>4</th>\n",
       "      <td>UPDATE: STILL NO MEDIA COVERAGE AFTER THOUSAND...</td>\n",
       "      <td>Does anyone actually believe it s possible tha...</td>\n",
       "      <td>0</td>\n",
       "      <td>UPDATE: STILL NO MEDIA COVERAGE AFTER THOUSAND...</td>\n",
       "    </tr>\n",
       "  </tbody>\n",
       "</table>\n",
       "</div>"
      ],
      "text/plain": [
       "                                               title  \\\n",
       "0   Texas Moving To Ban Jews, Muslims, and Gays f...   \n",
       "1  MUSLIM ACTIVISTS LAUNCH VOTER REGISTRATION DRI...   \n",
       "2  BREAKING: YOU’RE FIRED! FBI DIRECTOR JAMES COM...   \n",
       "3   Trump Whines Pathetically On Twitter Because ...   \n",
       "4  UPDATE: STILL NO MEDIA COVERAGE AFTER THOUSAND...   \n",
       "\n",
       "                                                text  label  \\\n",
       "0  Texas parents looking to adopt may soon be ban...      0   \n",
       "1  Who would ve guessed? A coalition of U.S.-base...      0   \n",
       "2  Wow! This is clearly something the White House...      0   \n",
       "3  Well, it seems that despite the efforts of not...      0   \n",
       "4  Does anyone actually believe it s possible tha...      0   \n",
       "\n",
       "                                       combined_text  \n",
       "0   Texas Moving To Ban Jews, Muslims, and Gays f...  \n",
       "1  MUSLIM ACTIVISTS LAUNCH VOTER REGISTRATION DRI...  \n",
       "2  BREAKING: YOU’RE FIRED! FBI DIRECTOR JAMES COM...  \n",
       "3   Trump Whines Pathetically On Twitter Because ...  \n",
       "4  UPDATE: STILL NO MEDIA COVERAGE AFTER THOUSAND...  "
      ]
     },
     "execution_count": 30,
     "metadata": {},
     "output_type": "execute_result"
    }
   ],
   "source": [
    "data = pd.concat([data, newDF3.sample(n=1000)])\n",
    "data.head()"
   ]
  },
  {
   "cell_type": "code",
   "execution_count": 31,
   "metadata": {},
   "outputs": [
    {
     "data": {
      "text/plain": [
       "(29100, 4)"
      ]
     },
     "execution_count": 31,
     "metadata": {},
     "output_type": "execute_result"
    }
   ],
   "source": [
    "data.shape"
   ]
  },
  {
   "cell_type": "code",
   "execution_count": 32,
   "metadata": {},
   "outputs": [
    {
     "data": {
      "text/html": [
       "<div>\n",
       "<style scoped>\n",
       "    .dataframe tbody tr th:only-of-type {\n",
       "        vertical-align: middle;\n",
       "    }\n",
       "\n",
       "    .dataframe tbody tr th {\n",
       "        vertical-align: top;\n",
       "    }\n",
       "\n",
       "    .dataframe thead th {\n",
       "        text-align: right;\n",
       "    }\n",
       "</style>\n",
       "<table border=\"1\" class=\"dataframe\">\n",
       "  <thead>\n",
       "    <tr style=\"text-align: right;\">\n",
       "      <th></th>\n",
       "      <th>Unnamed: 0</th>\n",
       "      <th>title</th>\n",
       "      <th>text</th>\n",
       "      <th>date</th>\n",
       "      <th>label</th>\n",
       "    </tr>\n",
       "  </thead>\n",
       "  <tbody>\n",
       "    <tr>\n",
       "      <th>0</th>\n",
       "      <td>0</td>\n",
       "      <td>The Impact of Debates? It's Debatable</td>\n",
       "      <td>The Impact of Debates? It's Debatable The quad...</td>\n",
       "      <td>2016-09-19</td>\n",
       "      <td>1.0</td>\n",
       "    </tr>\n",
       "    <tr>\n",
       "      <th>1</th>\n",
       "      <td>1</td>\n",
       "      <td>Details Emerge About NYC Bomb Suspect Ahmad Kh...</td>\n",
       "      <td> -- As police today captured the man wanted f...</td>\n",
       "      <td>2016-09-19</td>\n",
       "      <td>1.0</td>\n",
       "    </tr>\n",
       "    <tr>\n",
       "      <th>2</th>\n",
       "      <td>2</td>\n",
       "      <td>Donald Trump Repeats Calls for Police Profilin...</td>\n",
       "      <td>Donald Trump Repeats Calls for Police Profilin...</td>\n",
       "      <td>2016-09-19</td>\n",
       "      <td>1.0</td>\n",
       "    </tr>\n",
       "    <tr>\n",
       "      <th>3</th>\n",
       "      <td>3</td>\n",
       "      <td>NY, NJ Bombings Suspect Charged With Attempted...</td>\n",
       "      <td> -- Ahmad Khan Rahami, earlier named a person...</td>\n",
       "      <td>2016-09-19</td>\n",
       "      <td>1.0</td>\n",
       "    </tr>\n",
       "    <tr>\n",
       "      <th>4</th>\n",
       "      <td>4</td>\n",
       "      <td>Trump Surrogates Push Narrative That Clinton S...</td>\n",
       "      <td> -- Donald Trump's surrogates and leading sup...</td>\n",
       "      <td>2016-09-19</td>\n",
       "      <td>1.0</td>\n",
       "    </tr>\n",
       "  </tbody>\n",
       "</table>\n",
       "</div>"
      ],
      "text/plain": [
       "   Unnamed: 0                                              title  \\\n",
       "0           0              The Impact of Debates? It's Debatable   \n",
       "1           1  Details Emerge About NYC Bomb Suspect Ahmad Kh...   \n",
       "2           2  Donald Trump Repeats Calls for Police Profilin...   \n",
       "3           3  NY, NJ Bombings Suspect Charged With Attempted...   \n",
       "4           4  Trump Surrogates Push Narrative That Clinton S...   \n",
       "\n",
       "                                                text        date  label  \n",
       "0  The Impact of Debates? It's Debatable The quad...  2016-09-19    1.0  \n",
       "1   -- As police today captured the man wanted f...  2016-09-19    1.0  \n",
       "2  Donald Trump Repeats Calls for Police Profilin...  2016-09-19    1.0  \n",
       "3   -- Ahmad Khan Rahami, earlier named a person...  2016-09-19    1.0  \n",
       "4   -- Donald Trump's surrogates and leading sup...  2016-09-19    1.0  "
      ]
     },
     "execution_count": 32,
     "metadata": {},
     "output_type": "execute_result"
    }
   ],
   "source": [
    "df4 = pd.read_csv('fb_news_text.csv')\n",
    "df4.head()"
   ]
  },
  {
   "cell_type": "code",
   "execution_count": 33,
   "metadata": {},
   "outputs": [
    {
     "data": {
      "text/plain": [
       "1.0    954\n",
       "0.0     63\n",
       "Name: label, dtype: int64"
      ]
     },
     "execution_count": 33,
     "metadata": {},
     "output_type": "execute_result"
    }
   ],
   "source": [
    "df4['label'].value_counts()"
   ]
  },
  {
   "cell_type": "code",
   "execution_count": 34,
   "metadata": {},
   "outputs": [],
   "source": [
    "df4 = df4[df4.label == 1.0]"
   ]
  },
  {
   "cell_type": "code",
   "execution_count": 35,
   "metadata": {},
   "outputs": [
    {
     "data": {
      "text/html": [
       "<div>\n",
       "<style scoped>\n",
       "    .dataframe tbody tr th:only-of-type {\n",
       "        vertical-align: middle;\n",
       "    }\n",
       "\n",
       "    .dataframe tbody tr th {\n",
       "        vertical-align: top;\n",
       "    }\n",
       "\n",
       "    .dataframe thead th {\n",
       "        text-align: right;\n",
       "    }\n",
       "</style>\n",
       "<table border=\"1\" class=\"dataframe\">\n",
       "  <thead>\n",
       "    <tr style=\"text-align: right;\">\n",
       "      <th></th>\n",
       "      <th>title</th>\n",
       "      <th>text</th>\n",
       "      <th>label</th>\n",
       "      <th>combined_text</th>\n",
       "    </tr>\n",
       "  </thead>\n",
       "  <tbody>\n",
       "    <tr>\n",
       "      <th>0</th>\n",
       "      <td>The Impact of Debates? It's Debatable</td>\n",
       "      <td>The Impact of Debates? It's Debatable The quad...</td>\n",
       "      <td>1</td>\n",
       "      <td>The Impact of Debates? It's Debatable. The Imp...</td>\n",
       "    </tr>\n",
       "    <tr>\n",
       "      <th>1</th>\n",
       "      <td>Details Emerge About NYC Bomb Suspect Ahmad Kh...</td>\n",
       "      <td> -- As police today captured the man wanted f...</td>\n",
       "      <td>1</td>\n",
       "      <td>Details Emerge About NYC Bomb Suspect Ahmad Kh...</td>\n",
       "    </tr>\n",
       "    <tr>\n",
       "      <th>2</th>\n",
       "      <td>Donald Trump Repeats Calls for Police Profilin...</td>\n",
       "      <td>Donald Trump Repeats Calls for Police Profilin...</td>\n",
       "      <td>1</td>\n",
       "      <td>Donald Trump Repeats Calls for Police Profilin...</td>\n",
       "    </tr>\n",
       "    <tr>\n",
       "      <th>3</th>\n",
       "      <td>NY, NJ Bombings Suspect Charged With Attempted...</td>\n",
       "      <td> -- Ahmad Khan Rahami, earlier named a person...</td>\n",
       "      <td>1</td>\n",
       "      <td>NY, NJ Bombings Suspect Charged With Attempted...</td>\n",
       "    </tr>\n",
       "    <tr>\n",
       "      <th>4</th>\n",
       "      <td>Trump Surrogates Push Narrative That Clinton S...</td>\n",
       "      <td> -- Donald Trump's surrogates and leading sup...</td>\n",
       "      <td>1</td>\n",
       "      <td>Trump Surrogates Push Narrative That Clinton S...</td>\n",
       "    </tr>\n",
       "  </tbody>\n",
       "</table>\n",
       "</div>"
      ],
      "text/plain": [
       "                                               title  \\\n",
       "0              The Impact of Debates? It's Debatable   \n",
       "1  Details Emerge About NYC Bomb Suspect Ahmad Kh...   \n",
       "2  Donald Trump Repeats Calls for Police Profilin...   \n",
       "3  NY, NJ Bombings Suspect Charged With Attempted...   \n",
       "4  Trump Surrogates Push Narrative That Clinton S...   \n",
       "\n",
       "                                                text  label  \\\n",
       "0  The Impact of Debates? It's Debatable The quad...      1   \n",
       "1   -- As police today captured the man wanted f...      1   \n",
       "2  Donald Trump Repeats Calls for Police Profilin...      1   \n",
       "3   -- Ahmad Khan Rahami, earlier named a person...      1   \n",
       "4   -- Donald Trump's surrogates and leading sup...      1   \n",
       "\n",
       "                                       combined_text  \n",
       "0  The Impact of Debates? It's Debatable. The Imp...  \n",
       "1  Details Emerge About NYC Bomb Suspect Ahmad Kh...  \n",
       "2  Donald Trump Repeats Calls for Police Profilin...  \n",
       "3  NY, NJ Bombings Suspect Charged With Attempted...  \n",
       "4  Trump Surrogates Push Narrative That Clinton S...  "
      ]
     },
     "execution_count": 35,
     "metadata": {},
     "output_type": "execute_result"
    }
   ],
   "source": [
    "df4['combined_text'] = df4['title'] + '. ' + df4['text']\n",
    "df4['label'] = 1\n",
    "df4 = df4.drop(df4.columns[[0,3]], axis=1)\n",
    "df4.dropna(subset=['combined_text'],axis=0,inplace=True)\n",
    "df4.head()"
   ]
  },
  {
   "cell_type": "code",
   "execution_count": 36,
   "metadata": {},
   "outputs": [
    {
     "data": {
      "text/html": [
       "<div>\n",
       "<style scoped>\n",
       "    .dataframe tbody tr th:only-of-type {\n",
       "        vertical-align: middle;\n",
       "    }\n",
       "\n",
       "    .dataframe tbody tr th {\n",
       "        vertical-align: top;\n",
       "    }\n",
       "\n",
       "    .dataframe thead th {\n",
       "        text-align: right;\n",
       "    }\n",
       "</style>\n",
       "<table border=\"1\" class=\"dataframe\">\n",
       "  <thead>\n",
       "    <tr style=\"text-align: right;\">\n",
       "      <th></th>\n",
       "      <th>title</th>\n",
       "      <th>text</th>\n",
       "      <th>label</th>\n",
       "      <th>combined_text</th>\n",
       "    </tr>\n",
       "  </thead>\n",
       "  <tbody>\n",
       "    <tr>\n",
       "      <th>0</th>\n",
       "      <td>Texas Moving To Ban Jews, Muslims, and Gays f...</td>\n",
       "      <td>Texas parents looking to adopt may soon be ban...</td>\n",
       "      <td>0</td>\n",
       "      <td>Texas Moving To Ban Jews, Muslims, and Gays f...</td>\n",
       "    </tr>\n",
       "    <tr>\n",
       "      <th>1</th>\n",
       "      <td>MUSLIM ACTIVISTS LAUNCH VOTER REGISTRATION DRI...</td>\n",
       "      <td>Who would ve guessed? A coalition of U.S.-base...</td>\n",
       "      <td>0</td>\n",
       "      <td>MUSLIM ACTIVISTS LAUNCH VOTER REGISTRATION DRI...</td>\n",
       "    </tr>\n",
       "    <tr>\n",
       "      <th>2</th>\n",
       "      <td>BREAKING: YOU’RE FIRED! FBI DIRECTOR JAMES COM...</td>\n",
       "      <td>Wow! This is clearly something the White House...</td>\n",
       "      <td>0</td>\n",
       "      <td>BREAKING: YOU’RE FIRED! FBI DIRECTOR JAMES COM...</td>\n",
       "    </tr>\n",
       "    <tr>\n",
       "      <th>3</th>\n",
       "      <td>Trump Whines Pathetically On Twitter Because ...</td>\n",
       "      <td>Well, it seems that despite the efforts of not...</td>\n",
       "      <td>0</td>\n",
       "      <td>Trump Whines Pathetically On Twitter Because ...</td>\n",
       "    </tr>\n",
       "    <tr>\n",
       "      <th>4</th>\n",
       "      <td>UPDATE: STILL NO MEDIA COVERAGE AFTER THOUSAND...</td>\n",
       "      <td>Does anyone actually believe it s possible tha...</td>\n",
       "      <td>0</td>\n",
       "      <td>UPDATE: STILL NO MEDIA COVERAGE AFTER THOUSAND...</td>\n",
       "    </tr>\n",
       "  </tbody>\n",
       "</table>\n",
       "</div>"
      ],
      "text/plain": [
       "                                               title  \\\n",
       "0   Texas Moving To Ban Jews, Muslims, and Gays f...   \n",
       "1  MUSLIM ACTIVISTS LAUNCH VOTER REGISTRATION DRI...   \n",
       "2  BREAKING: YOU’RE FIRED! FBI DIRECTOR JAMES COM...   \n",
       "3   Trump Whines Pathetically On Twitter Because ...   \n",
       "4  UPDATE: STILL NO MEDIA COVERAGE AFTER THOUSAND...   \n",
       "\n",
       "                                                text  label  \\\n",
       "0  Texas parents looking to adopt may soon be ban...      0   \n",
       "1  Who would ve guessed? A coalition of U.S.-base...      0   \n",
       "2  Wow! This is clearly something the White House...      0   \n",
       "3  Well, it seems that despite the efforts of not...      0   \n",
       "4  Does anyone actually believe it s possible tha...      0   \n",
       "\n",
       "                                       combined_text  \n",
       "0   Texas Moving To Ban Jews, Muslims, and Gays f...  \n",
       "1  MUSLIM ACTIVISTS LAUNCH VOTER REGISTRATION DRI...  \n",
       "2  BREAKING: YOU’RE FIRED! FBI DIRECTOR JAMES COM...  \n",
       "3   Trump Whines Pathetically On Twitter Because ...  \n",
       "4  UPDATE: STILL NO MEDIA COVERAGE AFTER THOUSAND...  "
      ]
     },
     "execution_count": 36,
     "metadata": {},
     "output_type": "execute_result"
    }
   ],
   "source": [
    "data = pd.concat([data, df4.sample(n=900)])\n",
    "data.head()"
   ]
  },
  {
   "cell_type": "code",
   "execution_count": 37,
   "metadata": {},
   "outputs": [
    {
     "data": {
      "text/plain": [
       "(30000, 4)"
      ]
     },
     "execution_count": 37,
     "metadata": {},
     "output_type": "execute_result"
    }
   ],
   "source": [
    "data.shape"
   ]
  },
  {
   "cell_type": "code",
   "execution_count": 38,
   "metadata": {},
   "outputs": [
    {
     "data": {
      "text/plain": [
       "1    15209\n",
       "0    14791\n",
       "Name: label, dtype: int64"
      ]
     },
     "execution_count": 38,
     "metadata": {},
     "output_type": "execute_result"
    }
   ],
   "source": [
    "data['label'].value_counts()"
   ]
  },
  {
   "cell_type": "code",
   "execution_count": 39,
   "metadata": {},
   "outputs": [
    {
     "data": {
      "text/plain": [
       "0"
      ]
     },
     "execution_count": 39,
     "metadata": {},
     "output_type": "execute_result"
    }
   ],
   "source": [
    "data['combined_text'].isna().sum()"
   ]
  },
  {
   "cell_type": "code",
   "execution_count": 40,
   "metadata": {},
   "outputs": [],
   "source": [
    "data.to_csv('newData.csv',index=False)"
   ]
  },
  {
   "cell_type": "code",
   "execution_count": null,
   "metadata": {},
   "outputs": [],
   "source": []
  }
 ],
 "metadata": {
  "kernelspec": {
   "display_name": "Python 3",
   "language": "python",
   "name": "python3"
  },
  "language_info": {
   "codemirror_mode": {
    "name": "ipython",
    "version": 3
   },
   "file_extension": ".py",
   "mimetype": "text/x-python",
   "name": "python",
   "nbconvert_exporter": "python",
   "pygments_lexer": "ipython3",
   "version": "3.7.4"
  }
 },
 "nbformat": 4,
 "nbformat_minor": 4
}
