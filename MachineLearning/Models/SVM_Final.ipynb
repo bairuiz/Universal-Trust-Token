{
 "cells": [
  {
   "cell_type": "code",
   "execution_count": 1,
   "metadata": {},
   "outputs": [],
   "source": [
    "#Libraries \n",
    "import pandas as pd\n",
    "from sklearn.model_selection import train_test_split\n",
    "from nltk.stem import WordNetLemmatizer\n",
    "from sklearn.feature_extraction.text import CountVectorizer\n",
    "from sklearn.feature_extraction.text import TfidfVectorizer\n",
    "from textblob import Word\n",
    "from sklearn.svm import LinearSVC\n",
    "from sklearn.calibration import CalibratedClassifierCV\n",
    "from sklearn.multiclass import OneVsRestClassifier\n",
    "from sklearn.metrics import accuracy_score, precision_score, recall_score, f1_score\n",
    "import pickle"
   ]
  },
  {
   "cell_type": "code",
   "execution_count": 2,
   "metadata": {},
   "outputs": [],
   "source": [
    "def clean_dataset(X):\n",
    "    #remove digits \n",
    "    #remove words less than 3 characters \n",
    "    #remove punctuation\n",
    "\n",
    "    X['clean_title'] = X['title'].str.replace('\\d+', ' ') # for digits\n",
    "    X['clean_title'] = X['clean_title'].str.replace(r'(\\b\\w{1,2}\\b)', ' ') # for words less than 3 characters\n",
    "    X['clean_title'] = X['clean_title'].str.replace('[^\\w\\s]', ' ') # for punctuation \n",
    "    \n",
    "    X['clean_text'] = X['text'].str.replace('\\d+', ' ') # for digits\n",
    "    X['clean_text'] = X['clean_text'].str.replace(r'(\\b\\w{1,2}\\b)', ' ') # for words less than 3 characters\n",
    "    X['clean_text'] = X['clean_text'].str.replace('[^\\w\\s]', ' ') # for punctuation \n",
    "    #lemmatization \n",
    "    X['clean_title'] = X['clean_title'] .apply(lambda x: \" \".join([Word(word).lemmatize() for word in x.split()]))\n",
    "    X['clean_text'] = X['clean_text'] .apply(lambda x: \" \".join([Word(word).lemmatize() for word in x.split()]))\n",
    "    return X\n",
    "    \n",
    "def split_dataset(X, y):\n",
    "    #Split to train and test dataset \n",
    "    X_train, X_test, y_train, y_test = train_test_split(X, y, test_size=0.20, random_state=1000)\n",
    "\n",
    "    #Reset all the index\n",
    "    X_train = X_train.reset_index(drop=True)\n",
    "    y_train = y_train.reset_index(drop=True)\n",
    "    X_test = X_test.reset_index(drop=True)\n",
    "    y_test = y_test.reset_index(drop=True)\n",
    "    return (X_train, X_test, y_train, y_test)\n",
    "\n",
    "def count_vectorizer_train(train_data, ngram):\n",
    "    #train title data\n",
    "    countVec_title = CountVectorizer(lowercase=True, stop_words='english', min_df=0.01, ngram_range=ngram, strip_accents='ascii')\n",
    "    vector_train_title = countVec_title.fit_transform(train_data['clean_title'].values.astype('U'))\n",
    "    tokens_title = countVec_title.get_feature_names()\n",
    "    vectorized_train_title = pd.DataFrame(vector_train_title.toarray(), columns=tokens_title)\n",
    "\n",
    "    #train text data\n",
    "    countVec_text = CountVectorizer(lowercase=True, stop_words='english', min_df=0.01, ngram_range= ngram, strip_accents='ascii')\n",
    "    vector_train_text = countVec_text.fit_transform(train_data['clean_text'].values.astype('U'))\n",
    "    tokens_text = countVec_text.get_feature_names()\n",
    "    vectorized_train_text = pd.DataFrame(vector_train_text.toarray(), columns=tokens_text)\n",
    "\n",
    "    #combine train data and test data features\n",
    "    vectorized_train = pd.concat([vectorized_train_title, vectorized_train_text], axis=1)\n",
    "   \n",
    "    return vectorized_train, countVec_title, countVec_text, tokens_title, tokens_text\n",
    "\n",
    "\n",
    "def count_vectorizer_test(test_data, countVec_title, countVec_text, tokens_title, tokens_text):\n",
    "    #test title data - only transform\n",
    "    vector_test_title = countVec_title.transform(test_data['clean_title'].values.astype('U'))\n",
    "    vectorized_test_title = pd.DataFrame(vector_test_title.toarray(), columns=tokens_title)\n",
    "    \n",
    "    #test text data - only transform\n",
    "    vector_test_text = countVec_text.transform(test_data['clean_text'].values.astype('U'))\n",
    "    vectorized_test_text = pd.DataFrame(vector_test_text.toarray(), columns=tokens_text)\n",
    "    \n",
    "    #combine test title and text\n",
    "    vectorized_test = pd.concat([vectorized_test_title, vectorized_test_text], axis=1)\n",
    "    return vectorized_test\n",
    "\n",
    "def tfidf_vectorizer_train(train_data, ngram):\n",
    "    #train title data\n",
    "    tfidfVec_title = TfidfVectorizer(lowercase=True, stop_words='english', min_df=0.01, ngram_range= ngram, strip_accents='ascii')\n",
    "    vector_train_title = tfidfVec_title.fit_transform(train_data['clean_title'].values.astype('U'))\n",
    "    tokens_title = tfidfVec_title.get_feature_names()\n",
    "    vectorized_train_title = pd.DataFrame(vector_train_title.toarray(), columns=tokens_title)\n",
    "    \n",
    "    #train text data\n",
    "    tfidfVec_text = TfidfVectorizer(lowercase=True, stop_words='english', min_df=0.01, ngram_range= ngram, strip_accents='ascii')\n",
    "    vector_train_text = tfidfVec_text.fit_transform(train_data['clean_text'].values.astype('U'))\n",
    "    tokens_text = tfidfVec_text.get_feature_names()\n",
    "    vectorized_train_text = pd.DataFrame(vector_train_text.toarray(), columns=tokens_text)   \n",
    "    \n",
    "    #combine train data features\n",
    "    vectorized_train = pd.concat([vectorized_train_title, vectorized_train_text], axis=1)\n",
    "    \n",
    "    return vectorized_train, tfidfVec_title, tfidfVec_text, tokens_title, tokens_text\n",
    "    \n",
    "def tfidf_vectorizer_test(test_data, tfidfVec_title, tfidfVec_text, tokens_title, tokens_text):\n",
    "    #test title data - only transform\n",
    "    vector_test_title = tfidfVec_title.transform(test_data['clean_title'].values.astype('U'))\n",
    "    vectorized_test_title = pd.DataFrame(vector_test_title.toarray(), columns=tokens_title)\n",
    "    \n",
    "    #test text data - only transform\n",
    "    vector_test_text = tfidfVec_text.transform(test_data['clean_text'].values.astype('U'))\n",
    "    vectorized_test_text = pd.DataFrame(vector_test_text.toarray(), columns=tokens_text)\n",
    "    \n",
    "    #combine test title and text\n",
    "    vectorized_test = pd.concat([vectorized_test_title, vectorized_test_text], axis=1)\n",
    "    return vectorized_test  "
   ]
  },
  {
   "cell_type": "code",
   "execution_count": 3,
   "metadata": {},
   "outputs": [],
   "source": [
    "data = pd.read_csv(\"newData_w_title.csv\")\n",
    "\n",
    "#Divide data into feaures and labels\n",
    "X = data.loc[:,['title','text']]\n",
    "X = clean_dataset(X)\n",
    "y = pd.DataFrame(data['label'])"
   ]
  },
  {
   "cell_type": "code",
   "execution_count": 4,
   "metadata": {},
   "outputs": [],
   "source": [
    "#Split the data into train and test \n",
    "X_train, X_test, y_train, y_test = split_dataset(X, y)"
   ]
  },
  {
   "cell_type": "markdown",
   "metadata": {},
   "source": [
    "from sklearn.model_selection import GridSearchCV \n",
    "param_grid = {'C': [0.1,1, 10]} \n",
    "grid = GridSearchCV(LinearSVC(dual=False,max_iter=10000),param_grid,refit=True,verbose=2) \n",
    "grid.fit(train_data, y_train['label']) \n",
    "print(grid.best_estimator_)"
   ]
  },
  {
   "cell_type": "code",
   "execution_count": 5,
   "metadata": {},
   "outputs": [],
   "source": [
    "#Tfidf Vectorize\n",
    "ngram = (1,3)\n",
    "train_data, tfidfVec_title, tfidfVec_text, tokens_title, tokens_text = tfidf_vectorizer_train(X_train, ngram)\n",
    "test_data = tfidf_vectorizer_test(X_test, tfidfVec_title, tfidfVec_text, tokens_title, tokens_text)"
   ]
  },
  {
   "cell_type": "code",
   "execution_count": null,
   "metadata": {},
   "outputs": [],
   "source": [
    "svm = LinearSVC(C=1,dual=False,max_iter=10000)\n",
    "clf0 = CalibratedClassifierCV(svm)\n",
    "clf = OneVsRestClassifier(clf0)\n",
    "clf.fit(train_data, y_train['label'])"
   ]
  },
  {
   "cell_type": "code",
   "execution_count": null,
   "metadata": {},
   "outputs": [],
   "source": [
    "yhat = clf.predict(test_data)"
   ]
  },
  {
   "cell_type": "code",
   "execution_count": null,
   "metadata": {},
   "outputs": [],
   "source": [
    "print('Accuracy: %.2f' %(accuracy_score(y_test['label'],yhat)*100))\n",
    "print('Precision: %.2f' %(precision_score(y_test['label'],yhat)*100))\n",
    "print('F1 Score: %.2f' %(f1_score(y_test['label'],yhat)*100))\n",
    "print('Recall: %.2f' %(recall_score(y_test['label'],yhat)*100))"
   ]
  },
  {
   "cell_type": "code",
   "execution_count": null,
   "metadata": {},
   "outputs": [],
   "source": [
    "pickle.dump(tfidfVec_title, open(\"tfidf_1-3_vector_title.sav\", \"wb\"))\n",
    "pickle.dump(tfidfVec_text, open(\"tfidf_1-3_vector_text.sav\", \"wb\"))\n",
    "pickle.dump(clf,open('SVM_tfidf_1-3.sav','wb'))"
   ]
  }
 ],
 "metadata": {
  "kernelspec": {
   "display_name": "Python 3",
   "language": "python",
   "name": "python3"
  },
  "language_info": {
   "codemirror_mode": {
    "name": "ipython",
    "version": 3
   },
   "file_extension": ".py",
   "mimetype": "text/x-python",
   "name": "python",
   "nbconvert_exporter": "python",
   "pygments_lexer": "ipython3",
   "version": "3.7.4"
  }
 },
 "nbformat": 4,
 "nbformat_minor": 4
}
